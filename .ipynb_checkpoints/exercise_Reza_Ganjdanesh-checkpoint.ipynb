{
 "cells": [
  {
   "cell_type": "markdown",
   "metadata": {},
   "source": [
    "# Offline Exercise\n",
    "\n",
    "This notebook has the questions and instructions for the offline exercise. If you haven't already, please go through the `README.md` file before you begin answering the questions here.\n",
    "\n",
    "Make sure you do NOT commit your answers back to the repo. Instead, copy-paste this notebook together with the `touches.sqlite3` file to a separate folder in your machine, type your answers in that copied notebook, and when you're done, share the new Jupyter notebook back with the recruiter together with additional modules, graphs etc. that you may have. You would need to use the data in the `touches.sqlite3` file to answer all the questions."
   ]
  },
  {
   "cell_type": "markdown",
   "metadata": {},
   "source": [
    "### Question 1. Find the most common industry out of all the companies that were `contacted`."
   ]
  },
  {
   "cell_type": "code",
   "execution_count": 1,
   "metadata": {},
   "outputs": [],
   "source": [
    "import pandas as pd\n",
    "import numpy as np\n",
    "import matplotlib.pyplot as plt\n",
    "plt.style.use('seaborn')\n",
    "from matplotlib.colors import ListedColormap\n",
    "import seaborn as sns\n",
    "import sqlite3"
   ]
  },
  {
   "cell_type": "code",
   "execution_count": 2,
   "metadata": {},
   "outputs": [],
   "source": [
    "con = sqlite3.connect('touches.sqlite3')\n",
    "cur = con.cursor()"
   ]
  },
  {
   "cell_type": "markdown",
   "metadata": {},
   "source": [
    "The contacts between the team and people are stored in 'touches'. While the contacted person's information is stored in 'persons'. So, I inner joined the 'persons' to 'touches'. Then I inner joined the 'companies' to find their related industries. Among 577,948 touches, 'Internet Software & Services' industry was contacted 248,155 times, which is the highest number of contacts among 272 industries."
   ]
  },
  {
   "cell_type": "code",
   "execution_count": 3,
   "metadata": {},
   "outputs": [
    {
     "data": {
      "text/plain": [
       "<sqlite3.Cursor at 0x7fb97f5c6340>"
      ]
     },
     "execution_count": 3,
     "metadata": {},
     "output_type": "execute_result"
    }
   ],
   "source": [
    "cur.execute('''\n",
    "    SELECT companies.industry, COUNT(*) \n",
    "    FROM 'touches'\n",
    "    JOIN 'persons' ON touches.person_id = persons.id\n",
    "    JOIN 'companies' ON persons.company_id = companies.id\n",
    "    WHERE touches.status = 'completed'\n",
    "    GROUP BY companies.industry\n",
    "    ORDER BY COUNT(companies.industry) DESC\n",
    "    LIMIT 1\n",
    "    ''')"
   ]
  },
  {
   "cell_type": "code",
   "execution_count": 4,
   "metadata": {},
   "outputs": [
    {
     "name": "stdout",
     "output_type": "stream",
     "text": [
      "[('Internet Software & Services', 248155)]\n"
     ]
    }
   ],
   "source": [
    "print(cur.fetchall())"
   ]
  },
  {
   "cell_type": "code",
   "execution_count": null,
   "metadata": {},
   "outputs": [],
   "source": []
  },
  {
   "cell_type": "markdown",
   "metadata": {},
   "source": [
    "### Question 2. What is the most common touch type sellers use when they’re making their first touch with a person? What about first touch with a company?"
   ]
  },
  {
   "cell_type": "markdown",
   "metadata": {},
   "source": [
    "### First Person Contact Method"
   ]
  },
  {
   "cell_type": "markdown",
   "metadata": {},
   "source": [
    "I partitioned the touches over 'person_id' ordered by 'touch_scheduled_on' and 'touches.id' to temporally rank the touches with a person and filter the first touch with each person. Since, the touch schedules don't have time (date only), I assumed that the touches with prior 'touch_id' occured first when there are multiple touches in one day. The I filtered the resulting subquery to find the first touch with each person and grouped by 'touch_type' to find the most common first touch type with a person."
   ]
  },
  {
   "cell_type": "code",
   "execution_count": 5,
   "metadata": {},
   "outputs": [
    {
     "data": {
      "text/plain": [
       "<sqlite3.Cursor at 0x7fb97f5c6340>"
      ]
     },
     "execution_count": 5,
     "metadata": {},
     "output_type": "execute_result"
    }
   ],
   "source": [
    "cur.execute('''\n",
    "    SELECT touch_type, COUNT(*) AS total_touch \n",
    "    FROM(\n",
    "        SELECT id, person_id, touch_type, touch_scheduled_on,\n",
    "        ROW_NUMBER() OVER (PARTITION BY person_id ORDER BY touch_scheduled_on, touches.id)\n",
    "            AS touch_number\n",
    "        FROM touches\n",
    "        )\n",
    "    WHERE touch_number = 1\n",
    "    GROUP BY touch_type\n",
    "    ORDER BY total_touch DESC\n",
    "    ''')"
   ]
  },
  {
   "cell_type": "code",
   "execution_count": 6,
   "metadata": {},
   "outputs": [
    {
     "name": "stdout",
     "output_type": "stream",
     "text": [
      "('Other', 31057)\n",
      "('Email', 18384)\n",
      "('Phone', 10800)\n",
      "('Integration', 794)\n"
     ]
    }
   ],
   "source": [
    "rows = cur.fetchall()\n",
    "for row in rows:\n",
    "    print(row)"
   ]
  },
  {
   "cell_type": "markdown",
   "metadata": {},
   "source": [
    "<p>Total number of touches: 577,948\n",
    "<p>Total number of touched persons: 61,035"
   ]
  },
  {
   "cell_type": "markdown",
   "metadata": {},
   "source": [
    "| Touch Type | Touch Count |\n",
    "|       ---        |       ---         |\n",
    "| 'Other' | 31057 |\n",
    "| 'Email' | 18384 |\n",
    "| 'Phone' | 10800 |\n",
    "| 'Integration' | 794 |"
   ]
  },
  {
   "cell_type": "markdown",
   "metadata": {},
   "source": [
    "The highest amount of first touches were made by 'Other' methods which might include several online and in-person contact methods. Then, email and phone are the most used contact methods."
   ]
  },
  {
   "cell_type": "code",
   "execution_count": null,
   "metadata": {},
   "outputs": [],
   "source": []
  },
  {
   "cell_type": "markdown",
   "metadata": {},
   "source": [
    "### First Company Contact Method"
   ]
  },
  {
   "cell_type": "markdown",
   "metadata": {},
   "source": [
    "I used the same strategy as the one for the first touch type. I just had to join the 'touches' and 'persons' to find the company information."
   ]
  },
  {
   "cell_type": "code",
   "execution_count": 7,
   "metadata": {},
   "outputs": [
    {
     "data": {
      "text/plain": [
       "<sqlite3.Cursor at 0x7fb97f5c6340>"
      ]
     },
     "execution_count": 7,
     "metadata": {},
     "output_type": "execute_result"
    }
   ],
   "source": [
    "cur.execute('''\n",
    "    SELECT touch_type, COUNT(*) AS total_touch\n",
    "    FROM(\n",
    "        SELECT company_id, touch_type, touch_scheduled_on,\n",
    "        ROW_NUMBER() OVER (PARTITION BY company_id ORDER BY touch_scheduled_on, touches.id)\n",
    "            AS touch_number\n",
    "        FROM 'touches'\n",
    "        JOIN 'persons' ON touches.person_id = persons.id\n",
    "        )\n",
    "    WHERE touch_number = 1\n",
    "    GROUP BY touch_type\n",
    "    ORDER BY total_touch DESC\n",
    "    ''')"
   ]
  },
  {
   "cell_type": "code",
   "execution_count": 8,
   "metadata": {
    "scrolled": true
   },
   "outputs": [
    {
     "name": "stdout",
     "output_type": "stream",
     "text": [
      "('Other', 4975)\n",
      "('Email', 3511)\n",
      "('Phone', 1607)\n",
      "('Integration', 102)\n"
     ]
    }
   ],
   "source": [
    "rows = cur.fetchall()\n",
    "for row in rows:\n",
    "    print(row)"
   ]
  },
  {
   "cell_type": "markdown",
   "metadata": {},
   "source": [
    "<p>Total number of companies: 12,372\n",
    "<p>Total number of companies touched: 10,195"
   ]
  },
  {
   "cell_type": "markdown",
   "metadata": {},
   "source": [
    "| Touch Type | Touch Count |\n",
    "|       ---        |       ---         |\n",
    "| 'Other' | 4975 |\n",
    "| 'Email' | 3511 |\n",
    "| 'Phone' | 1607 |\n",
    "| 'Integration' | 102 |"
   ]
  },
  {
   "cell_type": "markdown",
   "metadata": {},
   "source": [
    "Again, the highest amount of first company touches were made by 'Other' methods. Then, email and phone are the most used contact methods."
   ]
  },
  {
   "cell_type": "code",
   "execution_count": null,
   "metadata": {},
   "outputs": [],
   "source": []
  },
  {
   "cell_type": "markdown",
   "metadata": {},
   "source": [
    "### Question 3. Describe the distribution of the job seniorities of people that a seller will first try to contact within a company.\n",
    "\n",
    "To answer this question, you may use visuals, graphs, bunch of scores, tables, writeups - whatever you want. We literally want you to \"describe\" the distribution to us in the best way you can!\n",
    "\n",
    "(Note: this question doesn't really have one right answer. It's more about your style of communicating the results.)"
   ]
  },
  {
   "cell_type": "code",
   "execution_count": 9,
   "metadata": {},
   "outputs": [],
   "source": [
    "touch_person_df = pd.read_sql(('''\n",
    "    SELECT touches.id AS touch_id, company_id, touch_type,\n",
    "    person_id, job_seniority, touch_scheduled_on,\n",
    "    ROW_NUMBER() OVER (PARTITION BY company_id ORDER BY touch_scheduled_on, touches.id)\n",
    "        AS touch_number\n",
    "    FROM 'touches'\n",
    "    JOIN 'persons' ON touches.person_id = persons.id\n",
    "    ORDER BY company_id, touch_number\n",
    "    '''), con)"
   ]
  },
  {
   "cell_type": "code",
   "execution_count": 10,
   "metadata": {},
   "outputs": [
    {
     "data": {
      "text/html": [
       "<div>\n",
       "<style scoped>\n",
       "    .dataframe tbody tr th:only-of-type {\n",
       "        vertical-align: middle;\n",
       "    }\n",
       "\n",
       "    .dataframe tbody tr th {\n",
       "        vertical-align: top;\n",
       "    }\n",
       "\n",
       "    .dataframe thead th {\n",
       "        text-align: right;\n",
       "    }\n",
       "</style>\n",
       "<table border=\"1\" class=\"dataframe\">\n",
       "  <thead>\n",
       "    <tr style=\"text-align: right;\">\n",
       "      <th></th>\n",
       "      <th>touch_id</th>\n",
       "      <th>company_id</th>\n",
       "      <th>touch_type</th>\n",
       "      <th>person_id</th>\n",
       "      <th>job_seniority</th>\n",
       "      <th>touch_scheduled_on</th>\n",
       "      <th>touch_number</th>\n",
       "    </tr>\n",
       "  </thead>\n",
       "  <tbody>\n",
       "    <tr>\n",
       "      <th>0</th>\n",
       "      <td>166380</td>\n",
       "      <td>1</td>\n",
       "      <td>Phone</td>\n",
       "      <td>82</td>\n",
       "      <td>Director</td>\n",
       "      <td>2017-06-01</td>\n",
       "      <td>1</td>\n",
       "    </tr>\n",
       "    <tr>\n",
       "      <th>1</th>\n",
       "      <td>166558</td>\n",
       "      <td>1</td>\n",
       "      <td>Phone</td>\n",
       "      <td>66</td>\n",
       "      <td>Vice President</td>\n",
       "      <td>2017-06-01</td>\n",
       "      <td>2</td>\n",
       "    </tr>\n",
       "    <tr>\n",
       "      <th>2</th>\n",
       "      <td>167401</td>\n",
       "      <td>1</td>\n",
       "      <td>Other</td>\n",
       "      <td>82</td>\n",
       "      <td>Director</td>\n",
       "      <td>2017-06-02</td>\n",
       "      <td>3</td>\n",
       "    </tr>\n",
       "    <tr>\n",
       "      <th>3</th>\n",
       "      <td>167405</td>\n",
       "      <td>1</td>\n",
       "      <td>Other</td>\n",
       "      <td>66</td>\n",
       "      <td>Vice President</td>\n",
       "      <td>2017-06-02</td>\n",
       "      <td>4</td>\n",
       "    </tr>\n",
       "    <tr>\n",
       "      <th>4</th>\n",
       "      <td>168913</td>\n",
       "      <td>1</td>\n",
       "      <td>Phone</td>\n",
       "      <td>82</td>\n",
       "      <td>Director</td>\n",
       "      <td>2017-06-05</td>\n",
       "      <td>5</td>\n",
       "    </tr>\n",
       "    <tr>\n",
       "      <th>...</th>\n",
       "      <td>...</td>\n",
       "      <td>...</td>\n",
       "      <td>...</td>\n",
       "      <td>...</td>\n",
       "      <td>...</td>\n",
       "      <td>...</td>\n",
       "      <td>...</td>\n",
       "    </tr>\n",
       "    <tr>\n",
       "      <th>577941</th>\n",
       "      <td>534901</td>\n",
       "      <td>14865</td>\n",
       "      <td>Email</td>\n",
       "      <td>173222</td>\n",
       "      <td>Vice President</td>\n",
       "      <td>2018-07-18</td>\n",
       "      <td>44</td>\n",
       "    </tr>\n",
       "    <tr>\n",
       "      <th>577942</th>\n",
       "      <td>584382</td>\n",
       "      <td>14865</td>\n",
       "      <td>Phone</td>\n",
       "      <td>173222</td>\n",
       "      <td>Vice President</td>\n",
       "      <td>2018-08-22</td>\n",
       "      <td>45</td>\n",
       "    </tr>\n",
       "    <tr>\n",
       "      <th>577943</th>\n",
       "      <td>701648</td>\n",
       "      <td>14869</td>\n",
       "      <td>Email</td>\n",
       "      <td>230154</td>\n",
       "      <td>Vice President</td>\n",
       "      <td>2018-11-06</td>\n",
       "      <td>1</td>\n",
       "    </tr>\n",
       "    <tr>\n",
       "      <th>577944</th>\n",
       "      <td>701772</td>\n",
       "      <td>14869</td>\n",
       "      <td>Phone</td>\n",
       "      <td>230154</td>\n",
       "      <td>Vice President</td>\n",
       "      <td>2018-11-06</td>\n",
       "      <td>2</td>\n",
       "    </tr>\n",
       "    <tr>\n",
       "      <th>577945</th>\n",
       "      <td>701782</td>\n",
       "      <td>14869</td>\n",
       "      <td>Other</td>\n",
       "      <td>230154</td>\n",
       "      <td>Vice President</td>\n",
       "      <td>2018-11-06</td>\n",
       "      <td>3</td>\n",
       "    </tr>\n",
       "  </tbody>\n",
       "</table>\n",
       "<p>577946 rows × 7 columns</p>\n",
       "</div>"
      ],
      "text/plain": [
       "        touch_id  company_id touch_type  person_id   job_seniority  \\\n",
       "0         166380           1      Phone         82        Director   \n",
       "1         166558           1      Phone         66  Vice President   \n",
       "2         167401           1      Other         82        Director   \n",
       "3         167405           1      Other         66  Vice President   \n",
       "4         168913           1      Phone         82        Director   \n",
       "...          ...         ...        ...        ...             ...   \n",
       "577941    534901       14865      Email     173222  Vice President   \n",
       "577942    584382       14865      Phone     173222  Vice President   \n",
       "577943    701648       14869      Email     230154  Vice President   \n",
       "577944    701772       14869      Phone     230154  Vice President   \n",
       "577945    701782       14869      Other     230154  Vice President   \n",
       "\n",
       "       touch_scheduled_on  touch_number  \n",
       "0              2017-06-01             1  \n",
       "1              2017-06-01             2  \n",
       "2              2017-06-02             3  \n",
       "3              2017-06-02             4  \n",
       "4              2017-06-05             5  \n",
       "...                   ...           ...  \n",
       "577941         2018-07-18            44  \n",
       "577942         2018-08-22            45  \n",
       "577943         2018-11-06             1  \n",
       "577944         2018-11-06             2  \n",
       "577945         2018-11-06             3  \n",
       "\n",
       "[577946 rows x 7 columns]"
      ]
     },
     "execution_count": 10,
     "metadata": {},
     "output_type": "execute_result"
    }
   ],
   "source": [
    "touch_person_df"
   ]
  },
  {
   "cell_type": "code",
   "execution_count": 11,
   "metadata": {},
   "outputs": [],
   "source": [
    "first_touch_seniority = touch_person_df[\n",
    "    touch_person_df['touch_number'] == 1]['job_seniority'].value_counts()"
   ]
  },
  {
   "cell_type": "code",
   "execution_count": 12,
   "metadata": {},
   "outputs": [
    {
     "data": {
      "text/plain": [
       "Director                  2848\n",
       "Vice President            2628\n",
       "Manager                   1896\n",
       "Executive                 1300\n",
       "Individual Contributor    1000\n",
       "Unknown                    523\n",
       "Name: job_seniority, dtype: int64"
      ]
     },
     "execution_count": 12,
     "metadata": {},
     "output_type": "execute_result"
    }
   ],
   "source": [
    "first_touch_seniority"
   ]
  },
  {
   "cell_type": "code",
   "execution_count": 13,
   "metadata": {},
   "outputs": [
    {
     "data": {
      "image/png": "[encoded data removed]",
      "text/plain": [
       "<Figure size 800x550 with 1 Axes>"
      ]
     },
     "metadata": {},
     "output_type": "display_data"
    }
   ],
   "source": [
    "first_touch_seniority.plot(kind='bar', colormap=ListedColormap(sns.color_palette(\"pastel\", 2)))\n",
    "plt.xlabel('Seniority Level')\n",
    "plt.ylabel('First Touch Count')\n",
    "plt.title('seniorities of people a seller first try to contact within a company')\n",
    "plt.show()"
   ]
  },
  {
   "cell_type": "code",
   "execution_count": null,
   "metadata": {},
   "outputs": [],
   "source": []
  },
  {
   "cell_type": "markdown",
   "metadata": {},
   "source": [
    "### Question 4. Describe the distribution of the mixture of job seniorities of people that a seller will touch during the entire engagement with a company.\n",
    "Keep in mind that you get to decide what “mixture” means, so do begin your answer by defining it - and explaining why you think this definition makes sense. Again, feel free to use whatever visuals, graphs, bunch of scores, tables, writeups etc. that you think is appropriate for this question.\n",
    "\n",
    "(Note: this question doesn't really have one right answer. It's more about your style of communicating the results.)"
   ]
  },
  {
   "cell_type": "markdown",
   "metadata": {},
   "source": [
    "The team has touched 10,195 companies creating 5,829 opportunities. It mean that 398,548 touches out of 577,946 were part of the created opportunities. Also, the 'company_id' in 'persons' matched only 4971 ones in the 'opportunities'. The 'touch_person_opportunity' dataframe contains the whole data for all touches."
   ]
  },
  {
   "cell_type": "code",
   "execution_count": 62,
   "metadata": {},
   "outputs": [],
   "source": [
    "touch_person_opportunity = pd.read_sql(('''\n",
    "    SELECT touches.id AS touch_id, touches.person_id, touches.touch_scheduled_on,\n",
    "    ROW_NUMBER() OVER (PARTITION BY persons.company_id ORDER BY touch_scheduled_on, touches.id)\n",
    "        AS touch_number,\n",
    "    touches.status, touches.touch_type, persons.company_id, persons.job_seniority,\n",
    "    opportunities.id AS opportunity_id, opportunities.created_at, opportunities.latest_stage\n",
    "    FROM 'touches'\n",
    "    LEFT JOIN 'persons' ON touches.person_id = persons.id\n",
    "    LEFT JOIN 'opportunities' ON persons.company_id = opportunities.company_id\n",
    "    ORDER BY opportunity_id, touch_scheduled_on, touch_id\n",
    "    '''), con)"
   ]
  },
  {
   "cell_type": "code",
   "execution_count": 63,
   "metadata": {},
   "outputs": [
    {
     "name": "stdout",
     "output_type": "stream",
     "text": [
      "<class 'pandas.core.frame.DataFrame'>\n",
      "RangeIndex: 577946 entries, 0 to 577945\n",
      "Data columns (total 11 columns):\n",
      " #   Column              Non-Null Count   Dtype  \n",
      "---  ------              --------------   -----  \n",
      " 0   touch_id            577946 non-null  int64  \n",
      " 1   person_id           577946 non-null  int64  \n",
      " 2   touch_scheduled_on  577946 non-null  object \n",
      " 3   touch_number        577946 non-null  int64  \n",
      " 4   status              577946 non-null  object \n",
      " 5   touch_type          577946 non-null  object \n",
      " 6   company_id          577946 non-null  int64  \n",
      " 7   job_seniority       577946 non-null  object \n",
      " 8   opportunity_id      398548 non-null  float64\n",
      " 9   created_at          398548 non-null  object \n",
      " 10  latest_stage        398548 non-null  object \n",
      "dtypes: float64(1), int64(4), object(6)\n",
      "memory usage: 48.5+ MB\n"
     ]
    }
   ],
   "source": [
    "touch_person_opportunity.info()"
   ]
  },
  {
   "cell_type": "markdown",
   "metadata": {},
   "source": [
    "#### Touches with opportunity"
   ]
  },
  {
   "cell_type": "code",
   "execution_count": 64,
   "metadata": {},
   "outputs": [
    {
     "name": "stdout",
     "output_type": "stream",
     "text": [
      "<class 'pandas.core.frame.DataFrame'>\n",
      "Int64Index: 398548 entries, 179398 to 577945\n",
      "Data columns (total 11 columns):\n",
      " #   Column              Non-Null Count   Dtype  \n",
      "---  ------              --------------   -----  \n",
      " 0   touch_id            398548 non-null  int64  \n",
      " 1   person_id           398548 non-null  int64  \n",
      " 2   touch_scheduled_on  398548 non-null  object \n",
      " 3   touch_number        398548 non-null  int64  \n",
      " 4   status              398548 non-null  object \n",
      " 5   touch_type          398548 non-null  object \n",
      " 6   company_id          398548 non-null  int64  \n",
      " 7   job_seniority       398548 non-null  object \n",
      " 8   opportunity_id      398548 non-null  float64\n",
      " 9   created_at          398548 non-null  object \n",
      " 10  latest_stage        398548 non-null  object \n",
      "dtypes: float64(1), int64(4), object(6)\n",
      "memory usage: 36.5+ MB\n"
     ]
    }
   ],
   "source": [
    "is_opportunity = touch_person_opportunity.dropna()\n",
    "is_opportunity.info()"
   ]
  },
  {
   "cell_type": "code",
   "execution_count": 65,
   "metadata": {},
   "outputs": [
    {
     "data": {
      "text/plain": [
       "Closed Lost             234969\n",
       "Disqualified             86959\n",
       "Closed Won               68210\n",
       "Discovery                 3936\n",
       "SDR Open                  2426\n",
       "Developing                2033\n",
       "Contract Negotiation        15\n",
       "Name: latest_stage, dtype: int64"
      ]
     },
     "execution_count": 65,
     "metadata": {},
     "output_type": "execute_result"
    }
   ],
   "source": [
    "is_opportunity['latest_stage'].value_counts()"
   ]
  },
  {
   "cell_type": "code",
   "execution_count": 66,
   "metadata": {},
   "outputs": [
    {
     "data": {
      "text/html": [
       "<div>\n",
       "<style scoped>\n",
       "    .dataframe tbody tr th:only-of-type {\n",
       "        vertical-align: middle;\n",
       "    }\n",
       "\n",
       "    .dataframe tbody tr th {\n",
       "        vertical-align: top;\n",
       "    }\n",
       "\n",
       "    .dataframe thead th {\n",
       "        text-align: right;\n",
       "    }\n",
       "</style>\n",
       "<table border=\"1\" class=\"dataframe\">\n",
       "  <thead>\n",
       "    <tr style=\"text-align: right;\">\n",
       "      <th></th>\n",
       "      <th>touch_id</th>\n",
       "      <th>person_id</th>\n",
       "      <th>touch_scheduled_on</th>\n",
       "      <th>touch_number</th>\n",
       "      <th>status</th>\n",
       "      <th>touch_type</th>\n",
       "      <th>company_id</th>\n",
       "      <th>job_seniority</th>\n",
       "      <th>opportunity_id</th>\n",
       "      <th>created_at</th>\n",
       "      <th>latest_stage</th>\n",
       "    </tr>\n",
       "  </thead>\n",
       "  <tbody>\n",
       "    <tr>\n",
       "      <th>179398</th>\n",
       "      <td>167437</td>\n",
       "      <td>121817</td>\n",
       "      <td>2017-06-02</td>\n",
       "      <td>1</td>\n",
       "      <td>completed</td>\n",
       "      <td>Other</td>\n",
       "      <td>3633</td>\n",
       "      <td>Vice President</td>\n",
       "      <td>1.0</td>\n",
       "      <td>2018-01-01 20:38:03.267059</td>\n",
       "      <td>Closed Lost</td>\n",
       "    </tr>\n",
       "    <tr>\n",
       "      <th>179399</th>\n",
       "      <td>169606</td>\n",
       "      <td>121817</td>\n",
       "      <td>2017-06-06</td>\n",
       "      <td>2</td>\n",
       "      <td>completed</td>\n",
       "      <td>Phone</td>\n",
       "      <td>3633</td>\n",
       "      <td>Vice President</td>\n",
       "      <td>1.0</td>\n",
       "      <td>2018-01-01 20:38:03.267059</td>\n",
       "      <td>Closed Lost</td>\n",
       "    </tr>\n",
       "    <tr>\n",
       "      <th>179400</th>\n",
       "      <td>171008</td>\n",
       "      <td>121817</td>\n",
       "      <td>2017-06-08</td>\n",
       "      <td>3</td>\n",
       "      <td>completed</td>\n",
       "      <td>Phone</td>\n",
       "      <td>3633</td>\n",
       "      <td>Vice President</td>\n",
       "      <td>1.0</td>\n",
       "      <td>2018-01-01 20:38:03.267059</td>\n",
       "      <td>Closed Lost</td>\n",
       "    </tr>\n",
       "    <tr>\n",
       "      <th>179401</th>\n",
       "      <td>172746</td>\n",
       "      <td>121817</td>\n",
       "      <td>2017-06-09</td>\n",
       "      <td>4</td>\n",
       "      <td>completed</td>\n",
       "      <td>Email</td>\n",
       "      <td>3633</td>\n",
       "      <td>Vice President</td>\n",
       "      <td>1.0</td>\n",
       "      <td>2018-01-01 20:38:03.267059</td>\n",
       "      <td>Closed Lost</td>\n",
       "    </tr>\n",
       "    <tr>\n",
       "      <th>179402</th>\n",
       "      <td>172748</td>\n",
       "      <td>121817</td>\n",
       "      <td>2017-06-09</td>\n",
       "      <td>5</td>\n",
       "      <td>completed</td>\n",
       "      <td>Other</td>\n",
       "      <td>3633</td>\n",
       "      <td>Vice President</td>\n",
       "      <td>1.0</td>\n",
       "      <td>2018-01-01 20:38:03.267059</td>\n",
       "      <td>Closed Lost</td>\n",
       "    </tr>\n",
       "  </tbody>\n",
       "</table>\n",
       "</div>"
      ],
      "text/plain": [
       "        touch_id  person_id touch_scheduled_on  touch_number     status  \\\n",
       "179398    167437     121817         2017-06-02             1  completed   \n",
       "179399    169606     121817         2017-06-06             2  completed   \n",
       "179400    171008     121817         2017-06-08             3  completed   \n",
       "179401    172746     121817         2017-06-09             4  completed   \n",
       "179402    172748     121817         2017-06-09             5  completed   \n",
       "\n",
       "       touch_type  company_id   job_seniority  opportunity_id  \\\n",
       "179398      Other        3633  Vice President             1.0   \n",
       "179399      Phone        3633  Vice President             1.0   \n",
       "179400      Phone        3633  Vice President             1.0   \n",
       "179401      Email        3633  Vice President             1.0   \n",
       "179402      Other        3633  Vice President             1.0   \n",
       "\n",
       "                        created_at latest_stage  \n",
       "179398  2018-01-01 20:38:03.267059  Closed Lost  \n",
       "179399  2018-01-01 20:38:03.267059  Closed Lost  \n",
       "179400  2018-01-01 20:38:03.267059  Closed Lost  \n",
       "179401  2018-01-01 20:38:03.267059  Closed Lost  \n",
       "179402  2018-01-01 20:38:03.267059  Closed Lost  "
      ]
     },
     "execution_count": 66,
     "metadata": {},
     "output_type": "execute_result"
    }
   ],
   "source": [
    "is_opportunity.head()"
   ]
  },
  {
   "cell_type": "code",
   "execution_count": 67,
   "metadata": {},
   "outputs": [],
   "source": [
    "closed_won = is_opportunity[is_opportunity['latest_stage'] == 'Closed Won']\n",
    "closed_lost = is_opportunity[is_opportunity['latest_stage'] == 'Closed Lost']"
   ]
  },
  {
   "cell_type": "markdown",
   "metadata": {},
   "source": [
    "I studied the closed opportunities and separated them into the 'won' and 'lost' ones. It seems that the 'won' opportunities in general needed less touches to close and several opportunities were won in less than 20 touches. While, the lost opportunities took much longer to close."
   ]
  },
  {
   "cell_type": "code",
   "execution_count": 68,
   "metadata": {},
   "outputs": [
    {
     "data": {
      "image/png": "[encoded data removed]",
      "text/plain": [
       "<Figure size 800x550 with 1 Axes>"
      ]
     },
     "metadata": {},
     "output_type": "display_data"
    }
   ],
   "source": [
    "sns.histplot(data=closed_won.groupby('opportunity_id').count()['touch_id'], stat='probability', kde=True, bins=100, label='closed_won', color='red', alpha=0.25)\n",
    "sns.histplot(data=closed_lost.groupby('opportunity_id').count()['touch_id'], stat='probability', kde=True, bins=100, label='closed_lost', color='blue', alpha=0.25)\n",
    "plt.xlim([0, 500])\n",
    "plt.legend()\n",
    "plt.show()"
   ]
  },
  {
   "cell_type": "markdown",
   "metadata": {},
   "source": [
    "For the won opportunities, I filter the touches into 3 categories: first, middle, and last touches. It shows who was mostly contacted first in the won opportunities, and also who closes the won opportunities."
   ]
  },
  {
   "cell_type": "code",
   "execution_count": 102,
   "metadata": {},
   "outputs": [],
   "source": [
    "first_touch_won_idx = closed_won.groupby(['opportunity_id'])['touch_number'].transform(min) == closed_won['touch_number']\n",
    "first_touch_won = closed_won[first_touch_won_idx]\n",
    "first_touch_won_seniority = first_touch_won['job_seniority'].value_counts()"
   ]
  },
  {
   "cell_type": "code",
   "execution_count": 103,
   "metadata": {},
   "outputs": [],
   "source": [
    "last_touch_won_idx = closed_won.groupby(['opportunity_id'])['touch_number'].transform(max) == closed_won['touch_number']\n",
    "last_touch_won = closed_won[last_touch_won_idx]\n",
    "last_touch_won_seniority = last_touch_won['job_seniority'].value_counts()"
   ]
  },
  {
   "cell_type": "code",
   "execution_count": 104,
   "metadata": {},
   "outputs": [
    {
     "data": {
      "image/png": "[encoded data removed]",
      "text/plain": [
       "<Figure size 800x550 with 1 Axes>"
      ]
     },
     "metadata": {},
     "output_type": "display_data"
    }
   ],
   "source": [
    "first_touch_won_seniority.plot(kind='bar', colormap=ListedColormap(sns.color_palette(\"pastel\", 2)))\n",
    "plt.xlabel('Seniority Level')\n",
    "plt.ylabel('First Touch Count')\n",
    "plt.title('seniorities of people a seller first try to contact within a company')\n",
    "plt.show()"
   ]
  },
  {
   "cell_type": "code",
   "execution_count": 107,
   "metadata": {},
   "outputs": [
    {
     "data": {
      "image/png": "[encoded data removed]",
      "text/plain": [
       "<Figure size 800x550 with 1 Axes>"
      ]
     },
     "metadata": {},
     "output_type": "display_data"
    }
   ],
   "source": [
    "last_touch_won_seniority.plot(kind='bar', colormap=ListedColormap(sns.color_palette(\"pastel\", 2)))\n",
    "plt.xlabel('Seniority Level')\n",
    "plt.ylabel('Last Touch Count')\n",
    "plt.title('seniorities of people a seller contact last within a company')\n",
    "plt.show()"
   ]
  },
  {
   "cell_type": "markdown",
   "metadata": {},
   "source": [
    "It  seems that the distribution of the first and last touch are pretty similar for the won opportunities. The same type distribution can be generated for the middle touches. Also, the same type of distributions can be generated for the lost opportunities to compare with the won ones."
   ]
  },
  {
   "cell_type": "code",
   "execution_count": null,
   "metadata": {},
   "outputs": [],
   "source": []
  },
  {
   "cell_type": "code",
   "execution_count": null,
   "metadata": {},
   "outputs": [],
   "source": []
  },
  {
   "cell_type": "markdown",
   "metadata": {},
   "source": [
    "### Question 5. Build an algorithm that, when a seller is about to contact a company it never reached out to before, recommends the best/optimal mixture of job seniorities (with “mixture” as defined by you in Question 4.) they should be targeting within that company during the entire engagement.\n",
    "\n",
    "This is the hardest question in this exercise. If you feel you have a good idea what the algorithm should look like but either feel uncomfortable coding-wise or feel pressed for time, it is perfectly OK to describe your idea in words. Be clear, explain both what it does and why you think this is the right approach.\n",
    "\n",
    "Whether or not you go the code-route or writeup-route, be sure to explain the assumptions and choices you made, why you made them and how you would test them.\n",
    "\n",
    "(Note: like with the previous two questions, this question doesn't really have one right answer either!)"
   ]
  },
  {
   "cell_type": "code",
   "execution_count": null,
   "metadata": {},
   "outputs": [],
   "source": []
  },
  {
   "cell_type": "code",
   "execution_count": null,
   "metadata": {},
   "outputs": [],
   "source": []
  },
  {
   "cell_type": "code",
   "execution_count": null,
   "metadata": {},
   "outputs": [],
   "source": []
  }
 ],
 "metadata": {
  "kernelspec": {
   "display_name": "Python 3",
   "language": "python",
   "name": "python3"
  },
  "language_info": {
   "codemirror_mode": {
    "name": "ipython",
    "version": 3
   },
   "file_extension": ".py",
   "mimetype": "text/x-python",
   "name": "python",
   "nbconvert_exporter": "python",
   "pygments_lexer": "ipython3",
   "version": "3.7.9"
  }
 },
 "nbformat": 4,
 "nbformat_minor": 2
}
